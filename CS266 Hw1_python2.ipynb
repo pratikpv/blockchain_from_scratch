{
 "cells": [
  {
   "cell_type": "code",
   "execution_count": 1,
   "metadata": {},
   "outputs": [],
   "source": [
    "# The data is provided via a class DataSimulator\n",
    "\n",
    "import DataSimulator as DSim\n",
    "\n",
    "DS = DSim.DataSimulator()"
   ]
  },
  {
   "cell_type": "code",
   "execution_count": 24,
   "metadata": {},
   "outputs": [
    {
     "name": "stdout",
     "output_type": "stream",
     "text": [
      "got data -------------\n",
      "\n",
      "got data -------------\n",
      "\n"
     ]
    }
   ],
   "source": [
    "count  = 2\n",
    "\n",
    "while count > 0:\n",
    "    newData = DS.getNewData()\n",
    "    if newData is not None:\n",
    "        print 'got data -------------\\n'\n",
    "        #print newData\n",
    "        count-=1\n",
    "        numberOfTx = len(newData)\n",
    "        # validate each transaction\n",
    "        \n",
    "        for txIndex in range(0,numberOfTx):\n",
    "            print newData[txIndex]\n",
    "       \n",
    "    else:\n",
    "        print 'end of data'\n",
    "        break\n"
   ]
  },
  {
   "cell_type": "code",
   "execution_count": 21,
   "metadata": {},
   "outputs": [
    {
     "name": "stdout",
     "output_type": "stream",
     "text": [
      "{u'msg': u'british magician to entomb himself in cheese', u'pk': u'Curve( 463 -2 2 ); G( 155 452 ); PK( 98 200 ); PKOrder( 149 )', u'signature': [2, 141]}\n"
     ]
    }
   ],
   "source": [
    "#\n",
    "# This is list of dict types, each of them of the form\n",
    "# {\n",
    "#     \"msg\"       : str         # the message\n",
    "#     \"pk\"        : str         # the public key\n",
    "#     \"signature\" : [int, int]  # the ECC signature (a point on the curve)\n",
    "# }\n",
    "# the public key pk is given as readable list of parameters\n",
    "# Curve( 463 -2 2 ); G( 155 452 ); PK( 424 5 ); PKOrder( 149 )\n",
    "# Thus, the curve is\n",
    "# x^3 -2x + 2 % 463 == y^2 % 463\n",
    "# with\n",
    "#  - a base point G=(155, 452),\n",
    "#  - public key point P=(424, 5) and\n",
    "#  - the order of the sub-group induced by G is 149, i.e. 149*G = (0,0)\n",
    "\n",
    "\n",
    "# Let's look at a single element of the received data\n",
    "\n",
    "d = newData[20]\n",
    "print d"
   ]
  },
  {
   "cell_type": "code",
   "execution_count": 22,
   "metadata": {},
   "outputs": [],
   "source": [
    "# To verify the signature, we need to import the ECC module for actual curve operations\n",
    "\n",
    "import ECC"
   ]
  },
  {
   "cell_type": "code",
   "execution_count": 5,
   "metadata": {},
   "outputs": [
    {
     "name": "stdout",
     "output_type": "stream",
     "text": [
      "True\n"
     ]
    }
   ],
   "source": [
    "# Let's check whether this signature is correct. The verify function is\n",
    "#\n",
    "#   ECC.verify(pubKeyString, message, signature)\n",
    "#\n",
    "# hence we call it with the public key string d['pk'], the message and the signature\n",
    "\n",
    "print ECC.verify(d['pk'], d[\"msg\"], d[\"signature\"])"
   ]
  },
  {
   "cell_type": "code",
   "execution_count": 6,
   "metadata": {},
   "outputs": [
    {
     "name": "stdout",
     "output_type": "stream",
     "text": [
      "True\n"
     ]
    }
   ],
   "source": [
    "# Or, if we write down the parameters explicitly\n",
    "print ECC.verify(d['pk'], \"cabinet meets to balance budget priorities\", (9,30))\n",
    "# True"
   ]
  },
  {
   "cell_type": "code",
   "execution_count": 7,
   "metadata": {},
   "outputs": [
    {
     "name": "stdout",
     "output_type": "stream",
     "text": [
      "False\n"
     ]
    }
   ],
   "source": [
    "# Thus evaluates to True. If we change the message a bit (cabinet -> Cabinet), we get\n",
    "print ECC.verify(d['pk'], \"Cabinet meets to balance budget priorities\", (9,30))\n",
    "# False"
   ]
  },
  {
   "cell_type": "code",
   "execution_count": 8,
   "metadata": {},
   "outputs": [
    {
     "name": "stdout",
     "output_type": "stream",
     "text": [
      "{u'msg': u'cabinet meets to balance budget priorities', u'pk': u'Curve( 463 -2 2 ); G( 155 452 ); PK( 263 231 ); PKOrder( 149 )', u'signature': [9, 30]}\n"
     ]
    }
   ],
   "source": [
    "# And finally, for the Merkle Tree\n",
    "# of all valid entries, we need to\n",
    "# be able to hash an element. We\n",
    "# use the str function, provided\n",
    "# by Python\n",
    "\n",
    "print (str(d))\n",
    "# -> \"{u'msg': u'cabinet meets to balance budget priorities', u'pk': u'Curve( 463 -2 2 ); G( 155 452 ); PK( 263 231 ); PKOrder( 149 )', u'signature': [9, 30]}\"\n"
   ]
  },
  {
   "cell_type": "code",
   "execution_count": 9,
   "metadata": {},
   "outputs": [
    {
     "name": "stdout",
     "output_type": "stream",
     "text": [
      "859bb8e0cbac797f3193f32a6dfe7a2a\n"
     ]
    }
   ],
   "source": [
    "# And this string can be given to ECC.hash(s)\n",
    "\n",
    "print ECC.hash(str(d))\n"
   ]
  },
  {
   "cell_type": "code",
   "execution_count": null,
   "metadata": {},
   "outputs": [],
   "source": []
  }
 ],
 "metadata": {
  "kernelspec": {
   "display_name": "Python 2",
   "language": "python",
   "name": "python2"
  },
  "language_info": {
   "codemirror_mode": {
    "name": "ipython",
    "version": 2
   },
   "file_extension": ".py",
   "mimetype": "text/x-python",
   "name": "python",
   "nbconvert_exporter": "python",
   "pygments_lexer": "ipython2",
   "version": "2.7.16"
  }
 },
 "nbformat": 4,
 "nbformat_minor": 2
}
