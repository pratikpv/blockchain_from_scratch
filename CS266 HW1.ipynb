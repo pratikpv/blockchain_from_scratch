{
 "cells": [
  {
   "cell_type": "code",
   "execution_count": 1,
   "metadata": {},
   "outputs": [],
   "source": [
    "from DataSimulator import DataSimulator\n",
    "import ECC\n",
    "import MerkleTree as mtree"
   ]
  },
  {
   "cell_type": "code",
   "execution_count": 2,
   "metadata": {},
   "outputs": [
    {
     "name": "stdout",
     "output_type": "stream",
     "text": [
      "got data -------------\n",
      "\n",
      "8cb2f479ea0a590918f7a68d1407b241\n",
      "8cb2f479ea0a590918f7a68d1407b241\n",
      "84964ee1719d2b1b4e7e6317d55b0d20\n",
      "a98e5f67f3f8db90388a78c4a281d177\n",
      "b9a973a1ecfcf8e948078e2bbe743f69\n",
      "8eee90431c554cfe9f936d543d0da014\n",
      "8eee90431c554cfe9f936d543d0da014\n",
      "575212aa14eaae3a534649b63b692caf\n",
      "4b2c1ae5e60d385f5c1dfb658e39011f\n",
      "5d45e4326711a09e5847b51fd1693984\n",
      "4de4a5bcb7d67625e9c98fe265e187af\n",
      "c3b98172f571c7c735d5b35aee45db03\n",
      "c3b98172f571c7c735d5b35aee45db03\n",
      "a873c0f65537b33aefdcdd6d63cd4582\n",
      "af6bd25a78b5a8340d25c07a04039cbc\n",
      "62446b002c013da371abc446058ed985\n",
      "89ae7dae84d135508d560f0c191130aa\n",
      "89ae7dae84d135508d560f0c191130aa\n",
      "0af482437eff20b964b31af5df6bc480\n",
      "0af482437eff20b964b31af5df6bc480\n",
      "b39c31e776bd0513a3b10af12f9804e9\n",
      "7552968ca4d1bc3bc968dd477a17d748\n",
      "f4f3ee8303ed4bf1ffc648652da94557\n",
      "f4f3ee8303ed4bf1ffc648652da94557\n",
      "5cfd49357eba87ea958f2676431f50f8\n",
      "54cab2daf0a2b740568d80ff7c041f1f\n",
      "54cab2daf0a2b740568d80ff7c041f1f\n",
      "d7d86d5085c6d05b842ac0891e8f24e0\n",
      "9decb635d21a562604c9238c49cb3314\n",
      "26a1d174531fbe8b25272e1242e57529\n",
      "ccbb5c5de49e729872b249c78b0df99f\n",
      "ccbb5c5de49e729872b249c78b0df99f\n",
      "104ec8440a656671f4c76e9b25155e34\n",
      "d127cee88463f37c9a9e99848e87b530\n",
      "d127cee88463f37c9a9e99848e87b530\n",
      "9b4be180d1784df81ad43f02e54bb1df\n",
      "46ec923403dacb3fced8e83912c92086\n",
      "4385b5c248eab2e32aa9e52d360bf49f\n",
      "a47669d94e38edd4ce12aca1ef7c5830\n",
      "c3ccac2148bba13613ce2ebe232f7ae1\n"
     ]
    }
   ],
   "source": []
  },
  {
   "cell_type": "code",
   "execution_count": null,
   "metadata": {},
   "outputs": [],
   "source": [
    "d"
   ]
  },
  {
   "cell_type": "code",
   "execution_count": null,
   "metadata": {},
   "outputs": [],
   "source": []
  }
 ],
 "metadata": {
  "kernelspec": {
   "display_name": "Python 3",
   "language": "python",
   "name": "python3"
  },
  "language_info": {
   "codemirror_mode": {
    "name": "ipython",
    "version": 3
   },
   "file_extension": ".py",
   "mimetype": "text/x-python",
   "name": "python",
   "nbconvert_exporter": "python",
   "pygments_lexer": "ipython3",
   "version": "3.6.9"
  }
 },
 "nbformat": 4,
 "nbformat_minor": 2
}
